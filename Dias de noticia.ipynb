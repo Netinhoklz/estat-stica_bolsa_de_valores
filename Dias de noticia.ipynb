{
 "cells": [
  {
   "cell_type": "markdown",
   "id": "06128194-621c-4b21-9d15-75b94aed70ca",
   "metadata": {},
   "source": [
    "<h1>Imports</h1>"
   ]
  },
  {
   "cell_type": "code",
   "execution_count": 2,
   "id": "3d0d50b2-9e5e-4c02-a13f-86e56c58b087",
   "metadata": {},
   "outputs": [
    {
     "ename": "TypeError",
     "evalue": "Rolling.quantile() missing 1 required positional argument: 'quantile'",
     "output_type": "error",
     "traceback": [
      "\u001b[1;31m---------------------------------------------------------------------------\u001b[0m",
      "\u001b[1;31mTypeError\u001b[0m                                 Traceback (most recent call last)",
      "Cell \u001b[1;32mIn[2], line 13\u001b[0m\n\u001b[0;32m     11\u001b[0m graf_diario[\u001b[38;5;124m'\u001b[39m\u001b[38;5;124mamplitude_media\u001b[39m\u001b[38;5;124m'\u001b[39m] \u001b[38;5;241m=\u001b[39m graf_diario[\u001b[38;5;124m'\u001b[39m\u001b[38;5;124mamplitude\u001b[39m\u001b[38;5;124m'\u001b[39m]\u001b[38;5;241m.\u001b[39mrolling(\u001b[38;5;241m5\u001b[39m)\u001b[38;5;241m.\u001b[39mmean()\n\u001b[0;32m     12\u001b[0m graf_diario[\u001b[38;5;124m'\u001b[39m\u001b[38;5;124mamplitude\u001b[39m\u001b[38;5;124m%\u001b[39m\u001b[38;5;124m_media\u001b[39m\u001b[38;5;124m'\u001b[39m] \u001b[38;5;241m=\u001b[39m graf_diario[\u001b[38;5;124m'\u001b[39m\u001b[38;5;124mamplitude\u001b[39m\u001b[38;5;124m%\u001b[39m\u001b[38;5;124m'\u001b[39m]\u001b[38;5;241m.\u001b[39mrolling(\u001b[38;5;241m22\u001b[39m)\u001b[38;5;241m.\u001b[39mmean()\n\u001b[1;32m---> 13\u001b[0m graf_diario[\u001b[38;5;124m'\u001b[39m\u001b[38;5;124mprimeiro_quartil\u001b[39m\u001b[38;5;124m'\u001b[39m] \u001b[38;5;241m=\u001b[39m \u001b[43mgraf_diario\u001b[49m\u001b[43m[\u001b[49m\u001b[38;5;124;43m'\u001b[39;49m\u001b[38;5;124;43mamplitude\u001b[39;49m\u001b[38;5;124;43m%\u001b[39;49m\u001b[38;5;124;43m'\u001b[39;49m\u001b[43m]\u001b[49m\u001b[38;5;241;43m.\u001b[39;49m\u001b[43mrolling\u001b[49m\u001b[43m(\u001b[49m\u001b[38;5;241;43m22\u001b[39;49m\u001b[43m)\u001b[49m\u001b[38;5;241;43m.\u001b[39;49m\u001b[43mquantile\u001b[49m\u001b[43m(\u001b[49m\u001b[43mq\u001b[49m\u001b[38;5;241;43m=\u001b[39;49m\u001b[38;5;241;43m0.25\u001b[39;49m\u001b[43m)\u001b[49m\n\u001b[0;32m     14\u001b[0m graf_diario[\u001b[38;5;124m'\u001b[39m\u001b[38;5;124mmediana\u001b[39m\u001b[38;5;124m'\u001b[39m] \u001b[38;5;241m=\u001b[39m graf_diario[\u001b[38;5;124m'\u001b[39m\u001b[38;5;124mamplitude\u001b[39m\u001b[38;5;124m%\u001b[39m\u001b[38;5;124m'\u001b[39m]\u001b[38;5;241m.\u001b[39mrolling(\u001b[38;5;241m22\u001b[39m)\u001b[38;5;241m.\u001b[39mquantile(q\u001b[38;5;241m=\u001b[39m\u001b[38;5;241m0.5\u001b[39m)\n\u001b[0;32m     15\u001b[0m graf_diario[\u001b[38;5;124m'\u001b[39m\u001b[38;5;124mterceiro_quartil\u001b[39m\u001b[38;5;124m'\u001b[39m] \u001b[38;5;241m=\u001b[39m graf_diario[\u001b[38;5;124m'\u001b[39m\u001b[38;5;124mamplitude\u001b[39m\u001b[38;5;124m%\u001b[39m\u001b[38;5;124m'\u001b[39m]\u001b[38;5;241m.\u001b[39mrolling(\u001b[38;5;241m22\u001b[39m)\u001b[38;5;241m.\u001b[39mquantile(q\u001b[38;5;241m=\u001b[39m\u001b[38;5;241m0.75\u001b[39m)\n",
      "\u001b[1;31mTypeError\u001b[0m: Rolling.quantile() missing 1 required positional argument: 'quantile'"
     ]
    }
   ],
   "source": [
    "import pandas as pd \n",
    "import datetime\n",
    "import matplotlib.pyplot as plt\n",
    "import MetaTrader5 as mt5\n",
    "mt5.initialize()\n",
    "ativo ='WDO$N'\n",
    "graf_diario = pd.DataFrame(mt5.copy_rates_from_pos(ativo, mt5.TIMEFRAME_D1, 0, 2000))\n",
    "graf_diario['Data'] = pd.to_datetime(graf_diario['time'],unit='s')\n",
    "graf_diario['amplitude'] = (graf_diario['high'] - graf_diario['low'])\n",
    "graf_diario['amplitude%'] = (graf_diario['high'] - graf_diario['low'])*100/graf_diario['low']\n",
    "graf_diario['amplitude_media'] = graf_diario['amplitude'].rolling(5).mean()\n",
    "graf_diario['amplitude%_media'] = graf_diario['amplitude%'].rolling(22).mean()\n",
    "graf_diario['primeiro_quartil'] = graf_diario['amplitude%'].rolling(22).quantile(q=0.25)\n",
    "graf_diario['mediana'] = graf_diario['amplitude%'].rolling(22).quantile(q=0.5)\n",
    "graf_diario['terceiro_quartil'] = graf_diario['amplitude%'].rolling(22).quantile(q=0.75)\n",
    "dias_noticias = pd.read_excel('dias_noticias.xlsx')\n",
    "graf_diario['index'] = graf_diario.index\n",
    "# dias_noticias = pd.to_datetime(dias_noticias['Data'], format=\"%m-%d-%Y\")\n",
    "dias_de_noticias_graf = graf_diario.merge(dias_noticias,on='Data')\n",
    "dias_de_noticias_graf[['amplitude','amplitude%','amplitude_media','amplitude%_media']][-22:].describe()"
   ]
  },
  {
   "cell_type": "code",
   "execution_count": 167,
   "id": "31625c58-f74d-44df-9ead-0760aab03425",
   "metadata": {},
   "outputs": [
    {
     "data": {
      "text/html": [
       "<div>\n",
       "<style scoped>\n",
       "    .dataframe tbody tr th:only-of-type {\n",
       "        vertical-align: middle;\n",
       "    }\n",
       "\n",
       "    .dataframe tbody tr th {\n",
       "        vertical-align: top;\n",
       "    }\n",
       "\n",
       "    .dataframe thead th {\n",
       "        text-align: right;\n",
       "    }\n",
       "</style>\n",
       "<table border=\"1\" class=\"dataframe\">\n",
       "  <thead>\n",
       "    <tr style=\"text-align: right;\">\n",
       "      <th></th>\n",
       "      <th>time</th>\n",
       "      <th>open</th>\n",
       "      <th>high</th>\n",
       "      <th>low</th>\n",
       "      <th>close</th>\n",
       "      <th>tick_volume</th>\n",
       "      <th>spread</th>\n",
       "      <th>real_volume</th>\n",
       "      <th>Data</th>\n",
       "      <th>amplitude</th>\n",
       "      <th>amplitude%</th>\n",
       "      <th>amplitude_media</th>\n",
       "      <th>amplitude%_media</th>\n",
       "      <th>primeiro_quartil</th>\n",
       "      <th>mediana</th>\n",
       "      <th>terceiro_quartil</th>\n",
       "      <th>index</th>\n",
       "    </tr>\n",
       "  </thead>\n",
       "  <tbody>\n",
       "    <tr>\n",
       "      <th>0</th>\n",
       "      <td>1539216000</td>\n",
       "      <td>3725.5</td>\n",
       "      <td>3792.0</td>\n",
       "      <td>3721.0</td>\n",
       "      <td>3789.5</td>\n",
       "      <td>573541</td>\n",
       "      <td>500</td>\n",
       "      <td>1551123</td>\n",
       "      <td>2018-10-11</td>\n",
       "      <td>71.0</td>\n",
       "      <td>1.908089</td>\n",
       "      <td>NaN</td>\n",
       "      <td>NaN</td>\n",
       "      <td>NaN</td>\n",
       "      <td>NaN</td>\n",
       "      <td>NaN</td>\n",
       "      <td>0</td>\n",
       "    </tr>\n",
       "    <tr>\n",
       "      <th>1</th>\n",
       "      <td>1539561600</td>\n",
       "      <td>3764.0</td>\n",
       "      <td>3770.5</td>\n",
       "      <td>3718.5</td>\n",
       "      <td>3740.0</td>\n",
       "      <td>435153</td>\n",
       "      <td>500</td>\n",
       "      <td>1241389</td>\n",
       "      <td>2018-10-15</td>\n",
       "      <td>52.0</td>\n",
       "      <td>1.398413</td>\n",
       "      <td>NaN</td>\n",
       "      <td>NaN</td>\n",
       "      <td>NaN</td>\n",
       "      <td>NaN</td>\n",
       "      <td>NaN</td>\n",
       "      <td>1</td>\n",
       "    </tr>\n",
       "    <tr>\n",
       "      <th>2</th>\n",
       "      <td>1539648000</td>\n",
       "      <td>3725.0</td>\n",
       "      <td>3735.0</td>\n",
       "      <td>3695.5</td>\n",
       "      <td>3730.0</td>\n",
       "      <td>487606</td>\n",
       "      <td>500</td>\n",
       "      <td>1392844</td>\n",
       "      <td>2018-10-16</td>\n",
       "      <td>39.5</td>\n",
       "      <td>1.068868</td>\n",
       "      <td>NaN</td>\n",
       "      <td>NaN</td>\n",
       "      <td>NaN</td>\n",
       "      <td>NaN</td>\n",
       "      <td>NaN</td>\n",
       "      <td>2</td>\n",
       "    </tr>\n",
       "    <tr>\n",
       "      <th>3</th>\n",
       "      <td>1539734400</td>\n",
       "      <td>3745.0</td>\n",
       "      <td>3750.0</td>\n",
       "      <td>3667.5</td>\n",
       "      <td>3690.5</td>\n",
       "      <td>546683</td>\n",
       "      <td>500</td>\n",
       "      <td>1592102</td>\n",
       "      <td>2018-10-17</td>\n",
       "      <td>82.5</td>\n",
       "      <td>2.249489</td>\n",
       "      <td>NaN</td>\n",
       "      <td>NaN</td>\n",
       "      <td>NaN</td>\n",
       "      <td>NaN</td>\n",
       "      <td>NaN</td>\n",
       "      <td>3</td>\n",
       "    </tr>\n",
       "    <tr>\n",
       "      <th>4</th>\n",
       "      <td>1539820800</td>\n",
       "      <td>3695.5</td>\n",
       "      <td>3736.0</td>\n",
       "      <td>3676.5</td>\n",
       "      <td>3725.0</td>\n",
       "      <td>522113</td>\n",
       "      <td>500</td>\n",
       "      <td>1545841</td>\n",
       "      <td>2018-10-18</td>\n",
       "      <td>59.5</td>\n",
       "      <td>1.618387</td>\n",
       "      <td>60.9</td>\n",
       "      <td>NaN</td>\n",
       "      <td>NaN</td>\n",
       "      <td>NaN</td>\n",
       "      <td>NaN</td>\n",
       "      <td>4</td>\n",
       "    </tr>\n",
       "    <tr>\n",
       "      <th>...</th>\n",
       "      <td>...</td>\n",
       "      <td>...</td>\n",
       "      <td>...</td>\n",
       "      <td>...</td>\n",
       "      <td>...</td>\n",
       "      <td>...</td>\n",
       "      <td>...</td>\n",
       "      <td>...</td>\n",
       "      <td>...</td>\n",
       "      <td>...</td>\n",
       "      <td>...</td>\n",
       "      <td>...</td>\n",
       "      <td>...</td>\n",
       "      <td>...</td>\n",
       "      <td>...</td>\n",
       "      <td>...</td>\n",
       "      <td>...</td>\n",
       "    </tr>\n",
       "    <tr>\n",
       "      <th>1236</th>\n",
       "      <td>1696464000</td>\n",
       "      <td>5185.0</td>\n",
       "      <td>5206.0</td>\n",
       "      <td>5167.5</td>\n",
       "      <td>5185.0</td>\n",
       "      <td>881824</td>\n",
       "      <td>500</td>\n",
       "      <td>3318372</td>\n",
       "      <td>2023-10-05</td>\n",
       "      <td>38.5</td>\n",
       "      <td>0.745041</td>\n",
       "      <td>57.1</td>\n",
       "      <td>0.956758</td>\n",
       "      <td>0.735456</td>\n",
       "      <td>0.837823</td>\n",
       "      <td>1.058245</td>\n",
       "      <td>1236</td>\n",
       "    </tr>\n",
       "    <tr>\n",
       "      <th>1237</th>\n",
       "      <td>1696550400</td>\n",
       "      <td>5181.5</td>\n",
       "      <td>5237.0</td>\n",
       "      <td>5160.5</td>\n",
       "      <td>5163.0</td>\n",
       "      <td>1079881</td>\n",
       "      <td>500</td>\n",
       "      <td>4034020</td>\n",
       "      <td>2023-10-06</td>\n",
       "      <td>76.5</td>\n",
       "      <td>1.482414</td>\n",
       "      <td>62.9</td>\n",
       "      <td>0.995811</td>\n",
       "      <td>0.748539</td>\n",
       "      <td>0.844068</td>\n",
       "      <td>1.087399</td>\n",
       "      <td>1237</td>\n",
       "    </tr>\n",
       "    <tr>\n",
       "      <th>1238</th>\n",
       "      <td>1696809600</td>\n",
       "      <td>5192.0</td>\n",
       "      <td>5199.5</td>\n",
       "      <td>5138.0</td>\n",
       "      <td>5152.5</td>\n",
       "      <td>724009</td>\n",
       "      <td>500</td>\n",
       "      <td>2688711</td>\n",
       "      <td>2023-10-09</td>\n",
       "      <td>61.5</td>\n",
       "      <td>1.196964</td>\n",
       "      <td>66.7</td>\n",
       "      <td>1.012744</td>\n",
       "      <td>0.748539</td>\n",
       "      <td>0.897999</td>\n",
       "      <td>1.171873</td>\n",
       "      <td>1238</td>\n",
       "    </tr>\n",
       "    <tr>\n",
       "      <th>1239</th>\n",
       "      <td>1696896000</td>\n",
       "      <td>5155.0</td>\n",
       "      <td>5157.0</td>\n",
       "      <td>5063.0</td>\n",
       "      <td>5071.0</td>\n",
       "      <td>863775</td>\n",
       "      <td>500</td>\n",
       "      <td>3459033</td>\n",
       "      <td>2023-10-10</td>\n",
       "      <td>94.0</td>\n",
       "      <td>1.856607</td>\n",
       "      <td>65.0</td>\n",
       "      <td>1.071137</td>\n",
       "      <td>0.759976</td>\n",
       "      <td>0.969300</td>\n",
       "      <td>1.222507</td>\n",
       "      <td>1239</td>\n",
       "    </tr>\n",
       "    <tr>\n",
       "      <th>1240</th>\n",
       "      <td>1696982400</td>\n",
       "      <td>5058.0</td>\n",
       "      <td>5086.5</td>\n",
       "      <td>5043.5</td>\n",
       "      <td>5063.5</td>\n",
       "      <td>252864</td>\n",
       "      <td>0</td>\n",
       "      <td>3325354</td>\n",
       "      <td>2023-10-11</td>\n",
       "      <td>43.0</td>\n",
       "      <td>0.852583</td>\n",
       "      <td>62.7</td>\n",
       "      <td>1.062001</td>\n",
       "      <td>0.759976</td>\n",
       "      <td>0.900390</td>\n",
       "      <td>1.222507</td>\n",
       "      <td>1240</td>\n",
       "    </tr>\n",
       "  </tbody>\n",
       "</table>\n",
       "<p>1241 rows × 17 columns</p>\n",
       "</div>"
      ],
      "text/plain": [
       "            time    open    high     low   close  tick_volume  spread  \\\n",
       "0     1539216000  3725.5  3792.0  3721.0  3789.5       573541     500   \n",
       "1     1539561600  3764.0  3770.5  3718.5  3740.0       435153     500   \n",
       "2     1539648000  3725.0  3735.0  3695.5  3730.0       487606     500   \n",
       "3     1539734400  3745.0  3750.0  3667.5  3690.5       546683     500   \n",
       "4     1539820800  3695.5  3736.0  3676.5  3725.0       522113     500   \n",
       "...          ...     ...     ...     ...     ...          ...     ...   \n",
       "1236  1696464000  5185.0  5206.0  5167.5  5185.0       881824     500   \n",
       "1237  1696550400  5181.5  5237.0  5160.5  5163.0      1079881     500   \n",
       "1238  1696809600  5192.0  5199.5  5138.0  5152.5       724009     500   \n",
       "1239  1696896000  5155.0  5157.0  5063.0  5071.0       863775     500   \n",
       "1240  1696982400  5058.0  5086.5  5043.5  5063.5       252864       0   \n",
       "\n",
       "      real_volume       Data  amplitude  amplitude%  amplitude_media  \\\n",
       "0         1551123 2018-10-11       71.0    1.908089              NaN   \n",
       "1         1241389 2018-10-15       52.0    1.398413              NaN   \n",
       "2         1392844 2018-10-16       39.5    1.068868              NaN   \n",
       "3         1592102 2018-10-17       82.5    2.249489              NaN   \n",
       "4         1545841 2018-10-18       59.5    1.618387             60.9   \n",
       "...           ...        ...        ...         ...              ...   \n",
       "1236      3318372 2023-10-05       38.5    0.745041             57.1   \n",
       "1237      4034020 2023-10-06       76.5    1.482414             62.9   \n",
       "1238      2688711 2023-10-09       61.5    1.196964             66.7   \n",
       "1239      3459033 2023-10-10       94.0    1.856607             65.0   \n",
       "1240      3325354 2023-10-11       43.0    0.852583             62.7   \n",
       "\n",
       "      amplitude%_media  primeiro_quartil   mediana  terceiro_quartil  index  \n",
       "0                  NaN               NaN       NaN               NaN      0  \n",
       "1                  NaN               NaN       NaN               NaN      1  \n",
       "2                  NaN               NaN       NaN               NaN      2  \n",
       "3                  NaN               NaN       NaN               NaN      3  \n",
       "4                  NaN               NaN       NaN               NaN      4  \n",
       "...                ...               ...       ...               ...    ...  \n",
       "1236          0.956758          0.735456  0.837823          1.058245   1236  \n",
       "1237          0.995811          0.748539  0.844068          1.087399   1237  \n",
       "1238          1.012744          0.748539  0.897999          1.171873   1238  \n",
       "1239          1.071137          0.759976  0.969300          1.222507   1239  \n",
       "1240          1.062001          0.759976  0.900390          1.222507   1240  \n",
       "\n",
       "[1241 rows x 17 columns]"
      ]
     },
     "execution_count": 167,
     "metadata": {},
     "output_type": "execute_result"
    }
   ],
   "source": [
    "graf_diario"
   ]
  },
  {
   "cell_type": "markdown",
   "id": "8ac406ae-84c0-4e72-a5a9-45db398d901a",
   "metadata": {},
   "source": [
    "<h1>Estudo dias de notícia</h1>"
   ]
  },
  {
   "cell_type": "code",
   "execution_count": 168,
   "id": "925a39ef-4637-4eb4-83e2-46219cd7c26a",
   "metadata": {},
   "outputs": [],
   "source": [
    "'''Noticias que levamos em consideração : \n",
    "    Payroll\n",
    "    Pedidos Iniciais por Seguro-Desemprego\n",
    "    Núcleo do Índice de Preços ao Consumidor (IPC) (Mensal)\n",
    "    Declaração do Comitê Federal de Mercado Aberto (FOMC)\n",
    "    Taxa-alvo de Fundos da Reserva Federal (Fed)\n",
    "    Índice de atividade dos gerentes de compras (PMI) Industrial do ISM\n",
    "'''\n",
    "#dias_de_noticias_graf = dias_de_noticias_graf[['Data','open','high','low','close','amplitude','amplitude%','amplitude_media','amplitude%_media','index']] \n",
    "media = dias_de_noticias_graf.loc[dias_de_noticias_graf['amplitude'] > dias_de_noticias_graf['amplitude_media']].shape\n",
    "um_quartil = dias_de_noticias_graf.loc[dias_de_noticias_graf['amplitude%'] > dias_de_noticias_graf['primeiro_quartil']].shape\n",
    "mediana = dias_de_noticias_graf.loc[dias_de_noticias_graf['amplitude%'] > dias_de_noticias_graf['mediana']].shape\n",
    "terceiro_quartil = dias_de_noticias_graf.loc[dias_de_noticias_graf['amplitude%'] > dias_de_noticias_graf['terceiro_quartil']].shape\n"
   ]
  },
  {
   "cell_type": "code",
   "execution_count": 169,
   "id": "23433a92-12bb-4d5a-9c12-7d161c07ef90",
   "metadata": {},
   "outputs": [
    {
     "data": {
      "text/plain": [
       "'Probabilidade de um dia de notícia ser acima da média é de 0.53125'"
      ]
     },
     "execution_count": 169,
     "metadata": {},
     "output_type": "execute_result"
    }
   ],
   "source": [
    "f'''Probabilidade de um dia de notícia ser acima da média é de {media[0]/len(dias_de_noticias_graf['Data'])}'''"
   ]
  },
  {
   "cell_type": "code",
   "execution_count": 170,
   "id": "89defec5-034b-4283-b054-e43a884e3837",
   "metadata": {},
   "outputs": [
    {
     "data": {
      "text/plain": [
       "'Probabilidade de um dia de notícia ser acima DO PRIMEIRO QUARTIL é de 0.78125'"
      ]
     },
     "execution_count": 170,
     "metadata": {},
     "output_type": "execute_result"
    }
   ],
   "source": [
    "f'''Probabilidade de um dia de notícia ser acima DO PRIMEIRO QUARTIL é de {um_quartil[0]/len(dias_de_noticias_graf['Data'])}'''"
   ]
  },
  {
   "cell_type": "code",
   "execution_count": 165,
   "id": "d7079a5b-e5fb-49a6-87fe-c880171ecf72",
   "metadata": {},
   "outputs": [
    {
     "data": {
      "text/plain": [
       "'Probabilidade de um dia de notícia ser acima da MEDIANA é de 0.6015625'"
      ]
     },
     "execution_count": 165,
     "metadata": {},
     "output_type": "execute_result"
    }
   ],
   "source": [
    "f'''Probabilidade de um dia de notícia ser acima da MEDIANA é de {mediana[0]/len(dias_de_noticias_graf['Data'])}'''"
   ]
  },
  {
   "cell_type": "code",
   "execution_count": 67,
   "id": "fa63afdb-236f-43c7-8419-3893f4d24e49",
   "metadata": {},
   "outputs": [
    {
     "data": {
      "text/plain": [
       "'Probabilidade de um dia de notícia ser acima da TERCEIRO QUARTIL é de 0.3671875'"
      ]
     },
     "execution_count": 67,
     "metadata": {},
     "output_type": "execute_result"
    }
   ],
   "source": [
    "f'''Probabilidade de um dia de notícia ser acima da TERCEIRO QUARTIL é de {terceiro_quartil[0]/len(dias_de_noticias_graf['Data'])}'''"
   ]
  },
  {
   "cell_type": "markdown",
   "id": "f1318274-ae12-49b3-adc3-9e29a8e57211",
   "metadata": {},
   "source": [
    "<h1>Dias antes</h1>"
   ]
  },
  {
   "cell_type": "code",
   "execution_count": 145,
   "id": "45b11b45-5763-4095-a6ad-4b3ff90c49b1",
   "metadata": {},
   "outputs": [],
   "source": [
    "index = dias_de_noticias_graf['index'].values\n",
    "dia_anterior_1 = index-1\n",
    "dia_anterior = graf_diario.iloc[dia_anterior_1]\n",
    "media = dia_anterior.loc[dia_anterior['amplitude%'] < dia_anterior['amplitude%_media']].shape\n",
    "um_quartil = dia_anterior.loc[dia_anterior['amplitude%'] < dia_anterior['primeiro_quartil']].shape\n",
    "mediana = dia_anterior.loc[dia_anterior['amplitude%'] < dia_anterior['mediana']].shape\n",
    "terceiro_quartil = dia_anterior.loc[dia_anterior['amplitude%'] < dia_anterior['terceiro_quartil']].shape"
   ]
  },
  {
   "cell_type": "code",
   "execution_count": 146,
   "id": "7fe093c9-add6-40e1-adc6-f01b91b5ca19",
   "metadata": {},
   "outputs": [
    {
     "data": {
      "text/plain": [
       "'Probabilidade de um dia de notícia ser acima da média é de 0.5703125'"
      ]
     },
     "execution_count": 146,
     "metadata": {},
     "output_type": "execute_result"
    }
   ],
   "source": [
    "f'''Probabilidade de um dia de notícia ser acima da média é de {media[0]/len(dia_anterior['Data'])}'''"
   ]
  },
  {
   "cell_type": "code",
   "execution_count": 147,
   "id": "a854de37-a3bf-4c60-8294-ff76750093bc",
   "metadata": {},
   "outputs": [
    {
     "data": {
      "text/plain": [
       "'Probabilidade de um dia de notícia ser acima DO PRIMEIRO QUARTIL é de 0.2578125'"
      ]
     },
     "execution_count": 147,
     "metadata": {},
     "output_type": "execute_result"
    }
   ],
   "source": [
    "f'''Probabilidade de um dia de notícia ser acima DO PRIMEIRO QUARTIL é de {um_quartil[0]/len(dia_anterior['Data'])}'''"
   ]
  },
  {
   "cell_type": "code",
   "execution_count": 148,
   "id": "ad790b0d-8f95-4036-96da-e49b31646ed2",
   "metadata": {},
   "outputs": [
    {
     "data": {
      "text/plain": [
       "'Probabilidade de um dia de notícia ser acima da MEDIANA é de 0.4765625'"
      ]
     },
     "execution_count": 148,
     "metadata": {},
     "output_type": "execute_result"
    }
   ],
   "source": [
    "f'''Probabilidade de um dia de notícia ser acima da MEDIANA é de {mediana[0]/len(dia_anterior['Data'])}'''"
   ]
  },
  {
   "cell_type": "code",
   "execution_count": 149,
   "id": "0bcb427c-6dd5-4f2a-a1dd-8502391d095b",
   "metadata": {},
   "outputs": [
    {
     "data": {
      "text/plain": [
       "'Probabilidade de um dia de notícia ser acima da TERCEIRO QUARTIL é de 0.71875'"
      ]
     },
     "execution_count": 149,
     "metadata": {},
     "output_type": "execute_result"
    }
   ],
   "source": [
    "f'''Probabilidade de um dia de notícia ser acima da TERCEIRO QUARTIL é de {terceiro_quartil[0]/len(dia_anterior['Data'])}'''"
   ]
  },
  {
   "cell_type": "code",
   "execution_count": 174,
   "id": "3b8d8212-f0f0-4cd9-8d4d-6a6a7d27e0dd",
   "metadata": {},
   "outputs": [
    {
     "data": {
      "image/png": "[encoded data removed]",
      "text/plain": [
       "<Figure size 640x480 with 1 Axes>"
      ]
     },
     "metadata": {},
     "output_type": "display_data"
    }
   ],
   "source": [
    "plt.boxplot(dias_de_noticias_graf['amplitude%'][-22:])\n",
    "plt.show()"
   ]
  },
  {
   "cell_type": "code",
   "execution_count": null,
   "id": "0ef69f92-49ee-4854-ab9d-e051c4270664",
   "metadata": {},
   "outputs": [],
   "source": []
  }
 ],
 "metadata": {
  "kernelspec": {
   "display_name": "Python 3 (ipykernel)",
   "language": "python",
   "name": "python3"
  },
  "language_info": {
   "codemirror_mode": {
    "name": "ipython",
    "version": 3
   },
   "file_extension": ".py",
   "mimetype": "text/x-python",
   "name": "python",
   "nbconvert_exporter": "python",
   "pygments_lexer": "ipython3",
   "version": "3.10.9"
  }
 },
 "nbformat": 4,
 "nbformat_minor": 5
}
